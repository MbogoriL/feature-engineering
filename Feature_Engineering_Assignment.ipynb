{
  "nbformat": 4,
  "nbformat_minor": 0,
  "metadata": {
    "colab": {
      "name": "Feature Engineering Assignment.ipynb",
      "provenance": [],
      "collapsed_sections": []
    },
    "kernelspec": {
      "name": "python3",
      "display_name": "Python 3"
    },
    "language_info": {
      "name": "python"
    }
  },
  "cells": [
    {
      "cell_type": "markdown",
      "source": [
        "**Specifying Data Analysis Question**\n",
        "\n",
        "The challenge is to predict the estimated time of arrival for orders- from pick-up to drop-off."
      ],
      "metadata": {
        "id": "_4ZpJf-tTrLf"
      }
    },
    {
      "cell_type": "markdown",
      "source": [
        " **Background**\n",
        " \n",
        "Logistics in Sub-Saharan Africa increases the cost of manufactured goods by up to\n",
        "320%; while in Europe, it only accounts for up to 90% of the manufacturing cost. Sendy\n",
        "is a business-to-business platform established in 2014, to enable businesses of all types\n",
        "and sizes to transport goods more efficiently across East Africa. The company is\n",
        "headquartered in Kenya with a team of more than 100 staff, focused on building practical\n",
        "solutions for Africa’s dynamic transportation needs, from developing apps and web\n",
        "solutions to providing dedicated support for goods on the move.\n"
      ],
      "metadata": {
        "id": "jBgPmhogHzxX"
      }
    },
    {
      "cell_type": "markdown",
      "source": [
        "**Problem Statement**\n",
        "\n",
        "Sendy has hired you to help predict the estimated time of delivery of orders, from the\n",
        "point of driver pickup to the point of arrival at the final destination. Build a model that\n",
        "predicts an accurate delivery time, from picking up a package arriving at the final\n",
        "destination. An accurate arrival time prediction will help all business to improve their\n",
        "logistics and communicate the accurate time their time to their customers. You will be\n",
        "required to perform various feature engineering techniques while preparing your data for\n",
        "further analysis.\n",
        "You will be required to go through the following:\n",
        "\n",
        "● Defining the Research Question\n",
        "\n",
        "● Data Importation\n",
        "\n",
        "● Data Exploration\n",
        "\n",
        "● Data Cleaning\n",
        "\n",
        "● Data Analysis (Univariate and Bivariate)\n",
        "\n",
        "● Data Preparation\n",
        "\n",
        "● Data Modeling\n",
        "\n",
        "● Model Evaluation\n",
        "\n",
        "● Challenging your Solution\n",
        "\n",
        "● Recommendations / Conclusion"
      ],
      "metadata": {
        "id": "TBDuSeKAH7-X"
      }
    },
    {
      "cell_type": "markdown",
      "source": [
        "# **Data Importation and Exploration**"
      ],
      "metadata": {
        "id": "yonq7wToUYkQ"
      }
    },
    {
      "cell_type": "code",
      "execution_count": 1,
      "metadata": {
        "id": "NmawL1Y4R4wU"
      },
      "outputs": [],
      "source": [
        "#import libraries\n",
        "\n",
        "import pandas as pd\n",
        "import numpy as np\n",
        "import matplotlib.pyplot as plt"
      ]
    },
    {
      "cell_type": "code",
      "source": [
        "#load dataset \n",
        "df = pd.read_csv('https://bit.ly/3deaKEM')\n",
        "df.sample(3)"
      ],
      "metadata": {
        "colab": {
          "base_uri": "https://localhost:8080/",
          "height": 358
        },
        "id": "jqysRv1_XX8u",
        "outputId": "5e8c953a-9f0e-4003-ff23-e11b2573428e"
      },
      "execution_count": 2,
      "outputs": [
        {
          "output_type": "execute_result",
          "data": {
            "text/plain": [
              "             Order No       User Id Vehicle Type  Platform Type  \\\n",
              "3173   Order_No_27041   User_Id_246         Bike              3   \n",
              "2992   Order_No_14228  User_Id_2112         Bike              3   \n",
              "11278  Order_No_24368  User_Id_2423         Bike              3   \n",
              "\n",
              "      Personal or Business  Placement - Day of Month  \\\n",
              "3173              Business                        25   \n",
              "2992              Business                         7   \n",
              "11278             Business                        14   \n",
              "\n",
              "       Placement - Weekday (Mo = 1) Placement - Time  \\\n",
              "3173                              2       5:47:00 PM   \n",
              "2992                              4       1:31:44 PM   \n",
              "11278                             5       2:40:10 PM   \n",
              "\n",
              "       Confirmation - Day of Month  Confirmation - Weekday (Mo = 1)  ...  \\\n",
              "3173                            25                                2  ...   \n",
              "2992                             7                                4  ...   \n",
              "11278                           14                                5  ...   \n",
              "\n",
              "      Arrival at Destination - Time  Distance (KM)  Temperature  \\\n",
              "3173                     6:02:02 PM              3         24.0   \n",
              "2992                     1:59:24 PM              5         31.0   \n",
              "11278                    3:49:05 PM              8         27.3   \n",
              "\n",
              "      Precipitation in millimeters  Pickup Lat  Pickup Long Destination Lat  \\\n",
              "3173                           NaN   -1.258414    36.804800       -1.255189   \n",
              "2992                           NaN   -1.228584    36.882647       -1.215601   \n",
              "11278                          NaN   -1.255189    36.782203       -1.303301   \n",
              "\n",
              "       Destination Long      Rider Id Time from Pickup to Arrival  \n",
              "3173          36.782203  Rider_Id_875                         352  \n",
              "2992          36.891686  Rider_Id_633                           3  \n",
              "11278         36.817086  Rider_Id_795                        3033  \n",
              "\n",
              "[3 rows x 29 columns]"
            ],
            "text/html": [
              "\n",
              "  <div id=\"df-673a56ad-07df-489b-b029-761b014373fa\">\n",
              "    <div class=\"colab-df-container\">\n",
              "      <div>\n",
              "<style scoped>\n",
              "    .dataframe tbody tr th:only-of-type {\n",
              "        vertical-align: middle;\n",
              "    }\n",
              "\n",
              "    .dataframe tbody tr th {\n",
              "        vertical-align: top;\n",
              "    }\n",
              "\n",
              "    .dataframe thead th {\n",
              "        text-align: right;\n",
              "    }\n",
              "</style>\n",
              "<table border=\"1\" class=\"dataframe\">\n",
              "  <thead>\n",
              "    <tr style=\"text-align: right;\">\n",
              "      <th></th>\n",
              "      <th>Order No</th>\n",
              "      <th>User Id</th>\n",
              "      <th>Vehicle Type</th>\n",
              "      <th>Platform Type</th>\n",
              "      <th>Personal or Business</th>\n",
              "      <th>Placement - Day of Month</th>\n",
              "      <th>Placement - Weekday (Mo = 1)</th>\n",
              "      <th>Placement - Time</th>\n",
              "      <th>Confirmation - Day of Month</th>\n",
              "      <th>Confirmation - Weekday (Mo = 1)</th>\n",
              "      <th>...</th>\n",
              "      <th>Arrival at Destination - Time</th>\n",
              "      <th>Distance (KM)</th>\n",
              "      <th>Temperature</th>\n",
              "      <th>Precipitation in millimeters</th>\n",
              "      <th>Pickup Lat</th>\n",
              "      <th>Pickup Long</th>\n",
              "      <th>Destination Lat</th>\n",
              "      <th>Destination Long</th>\n",
              "      <th>Rider Id</th>\n",
              "      <th>Time from Pickup to Arrival</th>\n",
              "    </tr>\n",
              "  </thead>\n",
              "  <tbody>\n",
              "    <tr>\n",
              "      <th>3173</th>\n",
              "      <td>Order_No_27041</td>\n",
              "      <td>User_Id_246</td>\n",
              "      <td>Bike</td>\n",
              "      <td>3</td>\n",
              "      <td>Business</td>\n",
              "      <td>25</td>\n",
              "      <td>2</td>\n",
              "      <td>5:47:00 PM</td>\n",
              "      <td>25</td>\n",
              "      <td>2</td>\n",
              "      <td>...</td>\n",
              "      <td>6:02:02 PM</td>\n",
              "      <td>3</td>\n",
              "      <td>24.0</td>\n",
              "      <td>NaN</td>\n",
              "      <td>-1.258414</td>\n",
              "      <td>36.804800</td>\n",
              "      <td>-1.255189</td>\n",
              "      <td>36.782203</td>\n",
              "      <td>Rider_Id_875</td>\n",
              "      <td>352</td>\n",
              "    </tr>\n",
              "    <tr>\n",
              "      <th>2992</th>\n",
              "      <td>Order_No_14228</td>\n",
              "      <td>User_Id_2112</td>\n",
              "      <td>Bike</td>\n",
              "      <td>3</td>\n",
              "      <td>Business</td>\n",
              "      <td>7</td>\n",
              "      <td>4</td>\n",
              "      <td>1:31:44 PM</td>\n",
              "      <td>7</td>\n",
              "      <td>4</td>\n",
              "      <td>...</td>\n",
              "      <td>1:59:24 PM</td>\n",
              "      <td>5</td>\n",
              "      <td>31.0</td>\n",
              "      <td>NaN</td>\n",
              "      <td>-1.228584</td>\n",
              "      <td>36.882647</td>\n",
              "      <td>-1.215601</td>\n",
              "      <td>36.891686</td>\n",
              "      <td>Rider_Id_633</td>\n",
              "      <td>3</td>\n",
              "    </tr>\n",
              "    <tr>\n",
              "      <th>11278</th>\n",
              "      <td>Order_No_24368</td>\n",
              "      <td>User_Id_2423</td>\n",
              "      <td>Bike</td>\n",
              "      <td>3</td>\n",
              "      <td>Business</td>\n",
              "      <td>14</td>\n",
              "      <td>5</td>\n",
              "      <td>2:40:10 PM</td>\n",
              "      <td>14</td>\n",
              "      <td>5</td>\n",
              "      <td>...</td>\n",
              "      <td>3:49:05 PM</td>\n",
              "      <td>8</td>\n",
              "      <td>27.3</td>\n",
              "      <td>NaN</td>\n",
              "      <td>-1.255189</td>\n",
              "      <td>36.782203</td>\n",
              "      <td>-1.303301</td>\n",
              "      <td>36.817086</td>\n",
              "      <td>Rider_Id_795</td>\n",
              "      <td>3033</td>\n",
              "    </tr>\n",
              "  </tbody>\n",
              "</table>\n",
              "<p>3 rows × 29 columns</p>\n",
              "</div>\n",
              "      <button class=\"colab-df-convert\" onclick=\"convertToInteractive('df-673a56ad-07df-489b-b029-761b014373fa')\"\n",
              "              title=\"Convert this dataframe to an interactive table.\"\n",
              "              style=\"display:none;\">\n",
              "        \n",
              "  <svg xmlns=\"http://www.w3.org/2000/svg\" height=\"24px\"viewBox=\"0 0 24 24\"\n",
              "       width=\"24px\">\n",
              "    <path d=\"M0 0h24v24H0V0z\" fill=\"none\"/>\n",
              "    <path d=\"M18.56 5.44l.94 2.06.94-2.06 2.06-.94-2.06-.94-.94-2.06-.94 2.06-2.06.94zm-11 1L8.5 8.5l.94-2.06 2.06-.94-2.06-.94L8.5 2.5l-.94 2.06-2.06.94zm10 10l.94 2.06.94-2.06 2.06-.94-2.06-.94-.94-2.06-.94 2.06-2.06.94z\"/><path d=\"M17.41 7.96l-1.37-1.37c-.4-.4-.92-.59-1.43-.59-.52 0-1.04.2-1.43.59L10.3 9.45l-7.72 7.72c-.78.78-.78 2.05 0 2.83L4 21.41c.39.39.9.59 1.41.59.51 0 1.02-.2 1.41-.59l7.78-7.78 2.81-2.81c.8-.78.8-2.07 0-2.86zM5.41 20L4 18.59l7.72-7.72 1.47 1.35L5.41 20z\"/>\n",
              "  </svg>\n",
              "      </button>\n",
              "      \n",
              "  <style>\n",
              "    .colab-df-container {\n",
              "      display:flex;\n",
              "      flex-wrap:wrap;\n",
              "      gap: 12px;\n",
              "    }\n",
              "\n",
              "    .colab-df-convert {\n",
              "      background-color: #E8F0FE;\n",
              "      border: none;\n",
              "      border-radius: 50%;\n",
              "      cursor: pointer;\n",
              "      display: none;\n",
              "      fill: #1967D2;\n",
              "      height: 32px;\n",
              "      padding: 0 0 0 0;\n",
              "      width: 32px;\n",
              "    }\n",
              "\n",
              "    .colab-df-convert:hover {\n",
              "      background-color: #E2EBFA;\n",
              "      box-shadow: 0px 1px 2px rgba(60, 64, 67, 0.3), 0px 1px 3px 1px rgba(60, 64, 67, 0.15);\n",
              "      fill: #174EA6;\n",
              "    }\n",
              "\n",
              "    [theme=dark] .colab-df-convert {\n",
              "      background-color: #3B4455;\n",
              "      fill: #D2E3FC;\n",
              "    }\n",
              "\n",
              "    [theme=dark] .colab-df-convert:hover {\n",
              "      background-color: #434B5C;\n",
              "      box-shadow: 0px 1px 3px 1px rgba(0, 0, 0, 0.15);\n",
              "      filter: drop-shadow(0px 1px 2px rgba(0, 0, 0, 0.3));\n",
              "      fill: #FFFFFF;\n",
              "    }\n",
              "  </style>\n",
              "\n",
              "      <script>\n",
              "        const buttonEl =\n",
              "          document.querySelector('#df-673a56ad-07df-489b-b029-761b014373fa button.colab-df-convert');\n",
              "        buttonEl.style.display =\n",
              "          google.colab.kernel.accessAllowed ? 'block' : 'none';\n",
              "\n",
              "        async function convertToInteractive(key) {\n",
              "          const element = document.querySelector('#df-673a56ad-07df-489b-b029-761b014373fa');\n",
              "          const dataTable =\n",
              "            await google.colab.kernel.invokeFunction('convertToInteractive',\n",
              "                                                     [key], {});\n",
              "          if (!dataTable) return;\n",
              "\n",
              "          const docLinkHtml = 'Like what you see? Visit the ' +\n",
              "            '<a target=\"_blank\" href=https://colab.research.google.com/notebooks/data_table.ipynb>data table notebook</a>'\n",
              "            + ' to learn more about interactive tables.';\n",
              "          element.innerHTML = '';\n",
              "          dataTable['output_type'] = 'display_data';\n",
              "          await google.colab.output.renderOutput(dataTable, element);\n",
              "          const docLink = document.createElement('div');\n",
              "          docLink.innerHTML = docLinkHtml;\n",
              "          element.appendChild(docLink);\n",
              "        }\n",
              "      </script>\n",
              "    </div>\n",
              "  </div>\n",
              "  "
            ]
          },
          "metadata": {},
          "execution_count": 2
        }
      ]
    },
    {
      "cell_type": "code",
      "source": [
        "#size of dataset\n",
        "df.shape"
      ],
      "metadata": {
        "colab": {
          "base_uri": "https://localhost:8080/"
        },
        "id": "hr_AQ2bKYT6Z",
        "outputId": "110097aa-3125-4a81-8a7e-e732420da919"
      },
      "execution_count": null,
      "outputs": [
        {
          "output_type": "execute_result",
          "data": {
            "text/plain": [
              "(21201, 29)"
            ]
          },
          "metadata": {},
          "execution_count": 3
        }
      ]
    },
    {
      "cell_type": "code",
      "source": [
        "df.dtypes"
      ],
      "metadata": {
        "colab": {
          "base_uri": "https://localhost:8080/"
        },
        "id": "76sfD0rDb7_y",
        "outputId": "02898bec-3bbd-428b-8062-24d29400e4e1"
      },
      "execution_count": null,
      "outputs": [
        {
          "output_type": "execute_result",
          "data": {
            "text/plain": [
              "Order No                                      object\n",
              "User Id                                       object\n",
              "Vehicle Type                                  object\n",
              "Platform Type                                  int64\n",
              "Personal or Business                          object\n",
              "Placement - Day of Month                       int64\n",
              "Placement - Weekday (Mo = 1)                   int64\n",
              "Placement - Time                              object\n",
              "Confirmation - Day of Month                    int64\n",
              "Confirmation - Weekday (Mo = 1)                int64\n",
              "Confirmation - Time                           object\n",
              "Arrival at Pickup - Day of Month               int64\n",
              "Arrival at Pickup - Weekday (Mo = 1)           int64\n",
              "Arrival at Pickup - Time                      object\n",
              "Pickup - Day of Month                          int64\n",
              "Pickup - Weekday (Mo = 1)                      int64\n",
              "Pickup - Time                                 object\n",
              "Arrival at Destination - Day of Month          int64\n",
              "Arrival at Destination - Weekday (Mo = 1)      int64\n",
              "Arrival at Destination - Time                 object\n",
              "Distance (KM)                                  int64\n",
              "Temperature                                  float64\n",
              "Precipitation in millimeters                 float64\n",
              "Pickup Lat                                   float64\n",
              "Pickup Long                                  float64\n",
              "Destination Lat                              float64\n",
              "Destination Long                             float64\n",
              "Rider Id                                      object\n",
              "Time from Pickup to Arrival                    int64\n",
              "dtype: object"
            ]
          },
          "metadata": {},
          "execution_count": 7
        }
      ]
    },
    {
      "cell_type": "markdown",
      "source": [
        ""
      ],
      "metadata": {
        "id": "qCYEwbOfEd0i"
      }
    },
    {
      "cell_type": "markdown",
      "source": [
        "Most of the variables are numerical types except Rider ID, Arrival at Destination-Time, Pickup-Time, Confirmation - Time, Placement - Time, Personal or Business, Order No, User Id,Vehicle Type"
      ],
      "metadata": {
        "id": "32QYAbabEd39"
      }
    },
    {
      "cell_type": "markdown",
      "source": [
        "# **Data Cleaning**"
      ],
      "metadata": {
        "id": "KsGkkOOoU5tO"
      }
    },
    {
      "cell_type": "code",
      "source": [
        "#drop some columns\n",
        "df = df.drop(['Rider Id', 'Order No', 'User Id', 'Placement - Time', 'Confirmation - Time','Pickup - Time', 'Arrival at Pickup - Time', 'Arrival at Destination - Time'], axis=1)"
      ],
      "metadata": {
        "id": "eVMXGr8mGWk7"
      },
      "execution_count": 3,
      "outputs": []
    },
    {
      "cell_type": "code",
      "source": [
        "df['Vehicle Type'].unique()\n",
        "#all values are Bike. Therefore we can drop this column as it doesn't add any information to our dataset.\n",
        "\n",
        "df = df.drop(['Vehicle Type'], axis=1)"
      ],
      "metadata": {
        "id": "bZEi9atIQfCj"
      },
      "execution_count": 5,
      "outputs": []
    },
    {
      "cell_type": "code",
      "source": [
        "#find missing values\n",
        "df.isnull().sum()"
      ],
      "metadata": {
        "colab": {
          "base_uri": "https://localhost:8080/"
        },
        "id": "yZFZlh4tYYZM",
        "outputId": "4d094b4d-4c11-4d8a-d89f-8c2adf1e4faa"
      },
      "execution_count": 4,
      "outputs": [
        {
          "output_type": "execute_result",
          "data": {
            "text/plain": [
              "Vehicle Type                                     0\n",
              "Platform Type                                    0\n",
              "Personal or Business                             0\n",
              "Placement - Day of Month                         0\n",
              "Placement - Weekday (Mo = 1)                     0\n",
              "Confirmation - Day of Month                      0\n",
              "Confirmation - Weekday (Mo = 1)                  0\n",
              "Arrival at Pickup - Day of Month                 0\n",
              "Arrival at Pickup - Weekday (Mo = 1)             0\n",
              "Pickup - Day of Month                            0\n",
              "Pickup - Weekday (Mo = 1)                        0\n",
              "Arrival at Destination - Day of Month            0\n",
              "Arrival at Destination - Weekday (Mo = 1)        0\n",
              "Distance (KM)                                    0\n",
              "Temperature                                   4366\n",
              "Precipitation in millimeters                 20649\n",
              "Pickup Lat                                       0\n",
              "Pickup Long                                      0\n",
              "Destination Lat                                  0\n",
              "Destination Long                                 0\n",
              "Time from Pickup to Arrival                      0\n",
              "dtype: int64"
            ]
          },
          "metadata": {},
          "execution_count": 4
        }
      ]
    },
    {
      "cell_type": "markdown",
      "source": [
        "Majority of the records in precipitation in millimeters are missing so I'll drop the column. Then do a median imputation for the missing values in temperature values."
      ],
      "metadata": {
        "id": "f-Isgf0kZUtw"
      }
    },
    {
      "cell_type": "code",
      "source": [
        "#dropping\n",
        "df = df.drop('Precipitation in millimeters', axis=1)\n",
        "\n",
        "#filling missing values with the mean\n",
        "df['Temperature'].fillna(df['Temperature'].median(), inplace=True)\n",
        "df.sample(5)\n",
        "df.isnull().sum()"
      ],
      "metadata": {
        "colab": {
          "base_uri": "https://localhost:8080/"
        },
        "id": "xCKzid2mGzTF",
        "outputId": "5c619e7f-03bd-4308-963c-69ff76d744d3"
      },
      "execution_count": 6,
      "outputs": [
        {
          "output_type": "execute_result",
          "data": {
            "text/plain": [
              "Platform Type                                0\n",
              "Personal or Business                         0\n",
              "Placement - Day of Month                     0\n",
              "Placement - Weekday (Mo = 1)                 0\n",
              "Confirmation - Day of Month                  0\n",
              "Confirmation - Weekday (Mo = 1)              0\n",
              "Arrival at Pickup - Day of Month             0\n",
              "Arrival at Pickup - Weekday (Mo = 1)         0\n",
              "Pickup - Day of Month                        0\n",
              "Pickup - Weekday (Mo = 1)                    0\n",
              "Arrival at Destination - Day of Month        0\n",
              "Arrival at Destination - Weekday (Mo = 1)    0\n",
              "Distance (KM)                                0\n",
              "Temperature                                  0\n",
              "Pickup Lat                                   0\n",
              "Pickup Long                                  0\n",
              "Destination Lat                              0\n",
              "Destination Long                             0\n",
              "Time from Pickup to Arrival                  0\n",
              "dtype: int64"
            ]
          },
          "metadata": {},
          "execution_count": 6
        }
      ]
    },
    {
      "cell_type": "code",
      "source": [
        "#feature encoding\n",
        "df['Personal or Business'] = df['Personal or Business'].replace({\"Business\" : \"0\", \"Personal\" :\"1\"})\n",
        "df.head()\n"
      ],
      "metadata": {
        "colab": {
          "base_uri": "https://localhost:8080/",
          "height": 374
        },
        "id": "I18g83n3z05_",
        "outputId": "6a5d83d5-c641-4ca6-c9a7-8daefab8a106"
      },
      "execution_count": 7,
      "outputs": [
        {
          "output_type": "execute_result",
          "data": {
            "text/plain": [
              "   Platform Type Personal or Business  Placement - Day of Month  \\\n",
              "0              3                    0                         9   \n",
              "1              3                    1                        12   \n",
              "2              3                    0                        30   \n",
              "3              3                    0                        15   \n",
              "4              1                    1                        13   \n",
              "\n",
              "   Placement - Weekday (Mo = 1)  Confirmation - Day of Month  \\\n",
              "0                             5                            9   \n",
              "1                             5                           12   \n",
              "2                             2                           30   \n",
              "3                             5                           15   \n",
              "4                             1                           13   \n",
              "\n",
              "   Confirmation - Weekday (Mo = 1)  Arrival at Pickup - Day of Month  \\\n",
              "0                                5                                 9   \n",
              "1                                5                                12   \n",
              "2                                2                                30   \n",
              "3                                5                                15   \n",
              "4                                1                                13   \n",
              "\n",
              "   Arrival at Pickup - Weekday (Mo = 1)  Pickup - Day of Month  \\\n",
              "0                                     5                      9   \n",
              "1                                     5                     12   \n",
              "2                                     2                     30   \n",
              "3                                     5                     15   \n",
              "4                                     1                     13   \n",
              "\n",
              "   Pickup - Weekday (Mo = 1)  Arrival at Destination - Day of Month  \\\n",
              "0                          5                                      9   \n",
              "1                          5                                     12   \n",
              "2                          2                                     30   \n",
              "3                          5                                     15   \n",
              "4                          1                                     13   \n",
              "\n",
              "   Arrival at Destination - Weekday (Mo = 1)  Distance (KM)  Temperature  \\\n",
              "0                                          5              4         20.4   \n",
              "1                                          5             16         26.4   \n",
              "2                                          2              3         23.5   \n",
              "3                                          5              9         19.2   \n",
              "4                                          1              9         15.4   \n",
              "\n",
              "   Pickup Lat  Pickup Long  Destination Lat  Destination Long  \\\n",
              "0   -1.317755    36.830370        -1.300406         36.829741   \n",
              "1   -1.351453    36.899315        -1.295004         36.814358   \n",
              "2   -1.308284    36.843419        -1.300921         36.828195   \n",
              "3   -1.281301    36.832396        -1.257147         36.795063   \n",
              "4   -1.266597    36.792118        -1.295041         36.809817   \n",
              "\n",
              "   Time from Pickup to Arrival  \n",
              "0                          745  \n",
              "1                         1993  \n",
              "2                          455  \n",
              "3                         1341  \n",
              "4                         1214  "
            ],
            "text/html": [
              "\n",
              "  <div id=\"df-3819c01f-e5aa-4d56-a6c1-74bdfe09d4d5\">\n",
              "    <div class=\"colab-df-container\">\n",
              "      <div>\n",
              "<style scoped>\n",
              "    .dataframe tbody tr th:only-of-type {\n",
              "        vertical-align: middle;\n",
              "    }\n",
              "\n",
              "    .dataframe tbody tr th {\n",
              "        vertical-align: top;\n",
              "    }\n",
              "\n",
              "    .dataframe thead th {\n",
              "        text-align: right;\n",
              "    }\n",
              "</style>\n",
              "<table border=\"1\" class=\"dataframe\">\n",
              "  <thead>\n",
              "    <tr style=\"text-align: right;\">\n",
              "      <th></th>\n",
              "      <th>Platform Type</th>\n",
              "      <th>Personal or Business</th>\n",
              "      <th>Placement - Day of Month</th>\n",
              "      <th>Placement - Weekday (Mo = 1)</th>\n",
              "      <th>Confirmation - Day of Month</th>\n",
              "      <th>Confirmation - Weekday (Mo = 1)</th>\n",
              "      <th>Arrival at Pickup - Day of Month</th>\n",
              "      <th>Arrival at Pickup - Weekday (Mo = 1)</th>\n",
              "      <th>Pickup - Day of Month</th>\n",
              "      <th>Pickup - Weekday (Mo = 1)</th>\n",
              "      <th>Arrival at Destination - Day of Month</th>\n",
              "      <th>Arrival at Destination - Weekday (Mo = 1)</th>\n",
              "      <th>Distance (KM)</th>\n",
              "      <th>Temperature</th>\n",
              "      <th>Pickup Lat</th>\n",
              "      <th>Pickup Long</th>\n",
              "      <th>Destination Lat</th>\n",
              "      <th>Destination Long</th>\n",
              "      <th>Time from Pickup to Arrival</th>\n",
              "    </tr>\n",
              "  </thead>\n",
              "  <tbody>\n",
              "    <tr>\n",
              "      <th>0</th>\n",
              "      <td>3</td>\n",
              "      <td>0</td>\n",
              "      <td>9</td>\n",
              "      <td>5</td>\n",
              "      <td>9</td>\n",
              "      <td>5</td>\n",
              "      <td>9</td>\n",
              "      <td>5</td>\n",
              "      <td>9</td>\n",
              "      <td>5</td>\n",
              "      <td>9</td>\n",
              "      <td>5</td>\n",
              "      <td>4</td>\n",
              "      <td>20.4</td>\n",
              "      <td>-1.317755</td>\n",
              "      <td>36.830370</td>\n",
              "      <td>-1.300406</td>\n",
              "      <td>36.829741</td>\n",
              "      <td>745</td>\n",
              "    </tr>\n",
              "    <tr>\n",
              "      <th>1</th>\n",
              "      <td>3</td>\n",
              "      <td>1</td>\n",
              "      <td>12</td>\n",
              "      <td>5</td>\n",
              "      <td>12</td>\n",
              "      <td>5</td>\n",
              "      <td>12</td>\n",
              "      <td>5</td>\n",
              "      <td>12</td>\n",
              "      <td>5</td>\n",
              "      <td>12</td>\n",
              "      <td>5</td>\n",
              "      <td>16</td>\n",
              "      <td>26.4</td>\n",
              "      <td>-1.351453</td>\n",
              "      <td>36.899315</td>\n",
              "      <td>-1.295004</td>\n",
              "      <td>36.814358</td>\n",
              "      <td>1993</td>\n",
              "    </tr>\n",
              "    <tr>\n",
              "      <th>2</th>\n",
              "      <td>3</td>\n",
              "      <td>0</td>\n",
              "      <td>30</td>\n",
              "      <td>2</td>\n",
              "      <td>30</td>\n",
              "      <td>2</td>\n",
              "      <td>30</td>\n",
              "      <td>2</td>\n",
              "      <td>30</td>\n",
              "      <td>2</td>\n",
              "      <td>30</td>\n",
              "      <td>2</td>\n",
              "      <td>3</td>\n",
              "      <td>23.5</td>\n",
              "      <td>-1.308284</td>\n",
              "      <td>36.843419</td>\n",
              "      <td>-1.300921</td>\n",
              "      <td>36.828195</td>\n",
              "      <td>455</td>\n",
              "    </tr>\n",
              "    <tr>\n",
              "      <th>3</th>\n",
              "      <td>3</td>\n",
              "      <td>0</td>\n",
              "      <td>15</td>\n",
              "      <td>5</td>\n",
              "      <td>15</td>\n",
              "      <td>5</td>\n",
              "      <td>15</td>\n",
              "      <td>5</td>\n",
              "      <td>15</td>\n",
              "      <td>5</td>\n",
              "      <td>15</td>\n",
              "      <td>5</td>\n",
              "      <td>9</td>\n",
              "      <td>19.2</td>\n",
              "      <td>-1.281301</td>\n",
              "      <td>36.832396</td>\n",
              "      <td>-1.257147</td>\n",
              "      <td>36.795063</td>\n",
              "      <td>1341</td>\n",
              "    </tr>\n",
              "    <tr>\n",
              "      <th>4</th>\n",
              "      <td>1</td>\n",
              "      <td>1</td>\n",
              "      <td>13</td>\n",
              "      <td>1</td>\n",
              "      <td>13</td>\n",
              "      <td>1</td>\n",
              "      <td>13</td>\n",
              "      <td>1</td>\n",
              "      <td>13</td>\n",
              "      <td>1</td>\n",
              "      <td>13</td>\n",
              "      <td>1</td>\n",
              "      <td>9</td>\n",
              "      <td>15.4</td>\n",
              "      <td>-1.266597</td>\n",
              "      <td>36.792118</td>\n",
              "      <td>-1.295041</td>\n",
              "      <td>36.809817</td>\n",
              "      <td>1214</td>\n",
              "    </tr>\n",
              "  </tbody>\n",
              "</table>\n",
              "</div>\n",
              "      <button class=\"colab-df-convert\" onclick=\"convertToInteractive('df-3819c01f-e5aa-4d56-a6c1-74bdfe09d4d5')\"\n",
              "              title=\"Convert this dataframe to an interactive table.\"\n",
              "              style=\"display:none;\">\n",
              "        \n",
              "  <svg xmlns=\"http://www.w3.org/2000/svg\" height=\"24px\"viewBox=\"0 0 24 24\"\n",
              "       width=\"24px\">\n",
              "    <path d=\"M0 0h24v24H0V0z\" fill=\"none\"/>\n",
              "    <path d=\"M18.56 5.44l.94 2.06.94-2.06 2.06-.94-2.06-.94-.94-2.06-.94 2.06-2.06.94zm-11 1L8.5 8.5l.94-2.06 2.06-.94-2.06-.94L8.5 2.5l-.94 2.06-2.06.94zm10 10l.94 2.06.94-2.06 2.06-.94-2.06-.94-.94-2.06-.94 2.06-2.06.94z\"/><path d=\"M17.41 7.96l-1.37-1.37c-.4-.4-.92-.59-1.43-.59-.52 0-1.04.2-1.43.59L10.3 9.45l-7.72 7.72c-.78.78-.78 2.05 0 2.83L4 21.41c.39.39.9.59 1.41.59.51 0 1.02-.2 1.41-.59l7.78-7.78 2.81-2.81c.8-.78.8-2.07 0-2.86zM5.41 20L4 18.59l7.72-7.72 1.47 1.35L5.41 20z\"/>\n",
              "  </svg>\n",
              "      </button>\n",
              "      \n",
              "  <style>\n",
              "    .colab-df-container {\n",
              "      display:flex;\n",
              "      flex-wrap:wrap;\n",
              "      gap: 12px;\n",
              "    }\n",
              "\n",
              "    .colab-df-convert {\n",
              "      background-color: #E8F0FE;\n",
              "      border: none;\n",
              "      border-radius: 50%;\n",
              "      cursor: pointer;\n",
              "      display: none;\n",
              "      fill: #1967D2;\n",
              "      height: 32px;\n",
              "      padding: 0 0 0 0;\n",
              "      width: 32px;\n",
              "    }\n",
              "\n",
              "    .colab-df-convert:hover {\n",
              "      background-color: #E2EBFA;\n",
              "      box-shadow: 0px 1px 2px rgba(60, 64, 67, 0.3), 0px 1px 3px 1px rgba(60, 64, 67, 0.15);\n",
              "      fill: #174EA6;\n",
              "    }\n",
              "\n",
              "    [theme=dark] .colab-df-convert {\n",
              "      background-color: #3B4455;\n",
              "      fill: #D2E3FC;\n",
              "    }\n",
              "\n",
              "    [theme=dark] .colab-df-convert:hover {\n",
              "      background-color: #434B5C;\n",
              "      box-shadow: 0px 1px 3px 1px rgba(0, 0, 0, 0.15);\n",
              "      filter: drop-shadow(0px 1px 2px rgba(0, 0, 0, 0.3));\n",
              "      fill: #FFFFFF;\n",
              "    }\n",
              "  </style>\n",
              "\n",
              "      <script>\n",
              "        const buttonEl =\n",
              "          document.querySelector('#df-3819c01f-e5aa-4d56-a6c1-74bdfe09d4d5 button.colab-df-convert');\n",
              "        buttonEl.style.display =\n",
              "          google.colab.kernel.accessAllowed ? 'block' : 'none';\n",
              "\n",
              "        async function convertToInteractive(key) {\n",
              "          const element = document.querySelector('#df-3819c01f-e5aa-4d56-a6c1-74bdfe09d4d5');\n",
              "          const dataTable =\n",
              "            await google.colab.kernel.invokeFunction('convertToInteractive',\n",
              "                                                     [key], {});\n",
              "          if (!dataTable) return;\n",
              "\n",
              "          const docLinkHtml = 'Like what you see? Visit the ' +\n",
              "            '<a target=\"_blank\" href=https://colab.research.google.com/notebooks/data_table.ipynb>data table notebook</a>'\n",
              "            + ' to learn more about interactive tables.';\n",
              "          element.innerHTML = '';\n",
              "          dataTable['output_type'] = 'display_data';\n",
              "          await google.colab.output.renderOutput(dataTable, element);\n",
              "          const docLink = document.createElement('div');\n",
              "          docLink.innerHTML = docLinkHtml;\n",
              "          element.appendChild(docLink);\n",
              "        }\n",
              "      </script>\n",
              "    </div>\n",
              "  </div>\n",
              "  "
            ]
          },
          "metadata": {},
          "execution_count": 7
        }
      ]
    },
    {
      "cell_type": "code",
      "source": [
        "#find duplicated values\n",
        "df.duplicated().sum()"
      ],
      "metadata": {
        "colab": {
          "base_uri": "https://localhost:8080/"
        },
        "id": "-9HTreCMY5xW",
        "outputId": "6b31eefb-c9af-4e47-8dad-b24fb21c0251"
      },
      "execution_count": 8,
      "outputs": [
        {
          "output_type": "execute_result",
          "data": {
            "text/plain": [
              "2"
            ]
          },
          "metadata": {},
          "execution_count": 8
        }
      ]
    },
    {
      "cell_type": "code",
      "source": [
        "#drop duplicate values\n",
        "df = df.drop_duplicates()\n",
        "df.duplicated().sum()"
      ],
      "metadata": {
        "colab": {
          "base_uri": "https://localhost:8080/"
        },
        "id": "HnC1t_pRnTVk",
        "outputId": "5535f730-6234-46f4-b3c6-ff5bfd8d7d49"
      },
      "execution_count": 9,
      "outputs": [
        {
          "output_type": "execute_result",
          "data": {
            "text/plain": [
              "0"
            ]
          },
          "metadata": {},
          "execution_count": 9
        }
      ]
    },
    {
      "cell_type": "markdown",
      "source": [
        "# **Data Analysis**"
      ],
      "metadata": {
        "id": "ks0a-UBWM9d8"
      }
    },
    {
      "cell_type": "markdown",
      "source": [
        "# Univariate Analysis"
      ],
      "metadata": {
        "id": "-bgrxv2qNW8d"
      }
    },
    {
      "cell_type": "code",
      "source": [
        "#summary statistics\n",
        "df.describe()"
      ],
      "metadata": {
        "colab": {
          "base_uri": "https://localhost:8080/",
          "height": 416
        },
        "id": "LktbBTE2JejM",
        "outputId": "1d68e34d-0b42-45af-f156-9ef6e0a4e68f"
      },
      "execution_count": null,
      "outputs": [
        {
          "output_type": "execute_result",
          "data": {
            "text/plain": [
              "       Platform Type  Placement - Day of Month  Placement - Weekday (Mo = 1)  \\\n",
              "count   21201.000000              21201.000000                  21201.000000   \n",
              "mean        2.752182                 15.653696                      3.240083   \n",
              "std         0.625178                  8.798916                      1.567295   \n",
              "min         1.000000                  1.000000                      1.000000   \n",
              "25%         3.000000                  8.000000                      2.000000   \n",
              "50%         3.000000                 15.000000                      3.000000   \n",
              "75%         3.000000                 23.000000                      5.000000   \n",
              "max         4.000000                 31.000000                      7.000000   \n",
              "\n",
              "       Confirmation - Day of Month  Confirmation - Weekday (Mo = 1)  \\\n",
              "count                 21201.000000                     21201.000000   \n",
              "mean                     15.653837                         3.240225   \n",
              "std                       8.798886                         1.567228   \n",
              "min                       1.000000                         1.000000   \n",
              "25%                       8.000000                         2.000000   \n",
              "50%                      15.000000                         3.000000   \n",
              "75%                      23.000000                         5.000000   \n",
              "max                      31.000000                         7.000000   \n",
              "\n",
              "       Arrival at Pickup - Day of Month  Arrival at Pickup - Weekday (Mo = 1)  \\\n",
              "count                      21201.000000                          21201.000000   \n",
              "mean                          15.653837                              3.240225   \n",
              "std                            8.798886                              1.567228   \n",
              "min                            1.000000                              1.000000   \n",
              "25%                            8.000000                              2.000000   \n",
              "50%                           15.000000                              3.000000   \n",
              "75%                           23.000000                              5.000000   \n",
              "max                           31.000000                              7.000000   \n",
              "\n",
              "       Pickup - Day of Month  Pickup - Weekday (Mo = 1)  \\\n",
              "count           21201.000000               21201.000000   \n",
              "mean               15.653837                   3.240225   \n",
              "std                 8.798886                   1.567228   \n",
              "min                 1.000000                   1.000000   \n",
              "25%                 8.000000                   2.000000   \n",
              "50%                15.000000                   3.000000   \n",
              "75%                23.000000                   5.000000   \n",
              "max                31.000000                   7.000000   \n",
              "\n",
              "       Arrival at Destination - Day of Month  \\\n",
              "count                           21201.000000   \n",
              "mean                               15.653837   \n",
              "std                                 8.798886   \n",
              "min                                 1.000000   \n",
              "25%                                 8.000000   \n",
              "50%                                15.000000   \n",
              "75%                                23.000000   \n",
              "max                                31.000000   \n",
              "\n",
              "       Arrival at Destination - Weekday (Mo = 1)  Distance (KM)   Temperature  \\\n",
              "count                               21201.000000   21201.000000  16835.000000   \n",
              "mean                                    3.240225       9.506533     23.258889   \n",
              "std                                     1.567228       5.668963      3.615768   \n",
              "min                                     1.000000       1.000000     11.200000   \n",
              "25%                                     2.000000       5.000000     20.600000   \n",
              "50%                                     3.000000       8.000000     23.500000   \n",
              "75%                                     5.000000      13.000000     26.000000   \n",
              "max                                     7.000000      49.000000     32.100000   \n",
              "\n",
              "         Pickup Lat   Pickup Long  Destination Lat  Destination Long  \\\n",
              "count  21201.000000  21201.000000     21201.000000      21201.000000   \n",
              "mean      -1.281470     36.811264        -1.282581         36.811220   \n",
              "std        0.030507      0.037473         0.034824          0.044721   \n",
              "min       -1.438302     36.653621        -1.430298         36.606594   \n",
              "25%       -1.300921     36.784605        -1.301201         36.785661   \n",
              "50%       -1.279395     36.807040        -1.284382         36.808002   \n",
              "75%       -1.257147     36.829741        -1.261177         36.829477   \n",
              "max       -1.147170     36.991046        -1.030225         37.016779   \n",
              "\n",
              "       Time from Pickup to Arrival  \n",
              "count                 21201.000000  \n",
              "mean                   1556.920947  \n",
              "std                     987.270788  \n",
              "min                       1.000000  \n",
              "25%                     882.000000  \n",
              "50%                    1369.000000  \n",
              "75%                    2040.000000  \n",
              "max                    7883.000000  "
            ],
            "text/html": [
              "\n",
              "  <div id=\"df-9fd07071-79ac-455d-b38c-796c33bf07ef\">\n",
              "    <div class=\"colab-df-container\">\n",
              "      <div>\n",
              "<style scoped>\n",
              "    .dataframe tbody tr th:only-of-type {\n",
              "        vertical-align: middle;\n",
              "    }\n",
              "\n",
              "    .dataframe tbody tr th {\n",
              "        vertical-align: top;\n",
              "    }\n",
              "\n",
              "    .dataframe thead th {\n",
              "        text-align: right;\n",
              "    }\n",
              "</style>\n",
              "<table border=\"1\" class=\"dataframe\">\n",
              "  <thead>\n",
              "    <tr style=\"text-align: right;\">\n",
              "      <th></th>\n",
              "      <th>Platform Type</th>\n",
              "      <th>Placement - Day of Month</th>\n",
              "      <th>Placement - Weekday (Mo = 1)</th>\n",
              "      <th>Confirmation - Day of Month</th>\n",
              "      <th>Confirmation - Weekday (Mo = 1)</th>\n",
              "      <th>Arrival at Pickup - Day of Month</th>\n",
              "      <th>Arrival at Pickup - Weekday (Mo = 1)</th>\n",
              "      <th>Pickup - Day of Month</th>\n",
              "      <th>Pickup - Weekday (Mo = 1)</th>\n",
              "      <th>Arrival at Destination - Day of Month</th>\n",
              "      <th>Arrival at Destination - Weekday (Mo = 1)</th>\n",
              "      <th>Distance (KM)</th>\n",
              "      <th>Temperature</th>\n",
              "      <th>Pickup Lat</th>\n",
              "      <th>Pickup Long</th>\n",
              "      <th>Destination Lat</th>\n",
              "      <th>Destination Long</th>\n",
              "      <th>Time from Pickup to Arrival</th>\n",
              "    </tr>\n",
              "  </thead>\n",
              "  <tbody>\n",
              "    <tr>\n",
              "      <th>count</th>\n",
              "      <td>21201.000000</td>\n",
              "      <td>21201.000000</td>\n",
              "      <td>21201.000000</td>\n",
              "      <td>21201.000000</td>\n",
              "      <td>21201.000000</td>\n",
              "      <td>21201.000000</td>\n",
              "      <td>21201.000000</td>\n",
              "      <td>21201.000000</td>\n",
              "      <td>21201.000000</td>\n",
              "      <td>21201.000000</td>\n",
              "      <td>21201.000000</td>\n",
              "      <td>21201.000000</td>\n",
              "      <td>16835.000000</td>\n",
              "      <td>21201.000000</td>\n",
              "      <td>21201.000000</td>\n",
              "      <td>21201.000000</td>\n",
              "      <td>21201.000000</td>\n",
              "      <td>21201.000000</td>\n",
              "    </tr>\n",
              "    <tr>\n",
              "      <th>mean</th>\n",
              "      <td>2.752182</td>\n",
              "      <td>15.653696</td>\n",
              "      <td>3.240083</td>\n",
              "      <td>15.653837</td>\n",
              "      <td>3.240225</td>\n",
              "      <td>15.653837</td>\n",
              "      <td>3.240225</td>\n",
              "      <td>15.653837</td>\n",
              "      <td>3.240225</td>\n",
              "      <td>15.653837</td>\n",
              "      <td>3.240225</td>\n",
              "      <td>9.506533</td>\n",
              "      <td>23.258889</td>\n",
              "      <td>-1.281470</td>\n",
              "      <td>36.811264</td>\n",
              "      <td>-1.282581</td>\n",
              "      <td>36.811220</td>\n",
              "      <td>1556.920947</td>\n",
              "    </tr>\n",
              "    <tr>\n",
              "      <th>std</th>\n",
              "      <td>0.625178</td>\n",
              "      <td>8.798916</td>\n",
              "      <td>1.567295</td>\n",
              "      <td>8.798886</td>\n",
              "      <td>1.567228</td>\n",
              "      <td>8.798886</td>\n",
              "      <td>1.567228</td>\n",
              "      <td>8.798886</td>\n",
              "      <td>1.567228</td>\n",
              "      <td>8.798886</td>\n",
              "      <td>1.567228</td>\n",
              "      <td>5.668963</td>\n",
              "      <td>3.615768</td>\n",
              "      <td>0.030507</td>\n",
              "      <td>0.037473</td>\n",
              "      <td>0.034824</td>\n",
              "      <td>0.044721</td>\n",
              "      <td>987.270788</td>\n",
              "    </tr>\n",
              "    <tr>\n",
              "      <th>min</th>\n",
              "      <td>1.000000</td>\n",
              "      <td>1.000000</td>\n",
              "      <td>1.000000</td>\n",
              "      <td>1.000000</td>\n",
              "      <td>1.000000</td>\n",
              "      <td>1.000000</td>\n",
              "      <td>1.000000</td>\n",
              "      <td>1.000000</td>\n",
              "      <td>1.000000</td>\n",
              "      <td>1.000000</td>\n",
              "      <td>1.000000</td>\n",
              "      <td>1.000000</td>\n",
              "      <td>11.200000</td>\n",
              "      <td>-1.438302</td>\n",
              "      <td>36.653621</td>\n",
              "      <td>-1.430298</td>\n",
              "      <td>36.606594</td>\n",
              "      <td>1.000000</td>\n",
              "    </tr>\n",
              "    <tr>\n",
              "      <th>25%</th>\n",
              "      <td>3.000000</td>\n",
              "      <td>8.000000</td>\n",
              "      <td>2.000000</td>\n",
              "      <td>8.000000</td>\n",
              "      <td>2.000000</td>\n",
              "      <td>8.000000</td>\n",
              "      <td>2.000000</td>\n",
              "      <td>8.000000</td>\n",
              "      <td>2.000000</td>\n",
              "      <td>8.000000</td>\n",
              "      <td>2.000000</td>\n",
              "      <td>5.000000</td>\n",
              "      <td>20.600000</td>\n",
              "      <td>-1.300921</td>\n",
              "      <td>36.784605</td>\n",
              "      <td>-1.301201</td>\n",
              "      <td>36.785661</td>\n",
              "      <td>882.000000</td>\n",
              "    </tr>\n",
              "    <tr>\n",
              "      <th>50%</th>\n",
              "      <td>3.000000</td>\n",
              "      <td>15.000000</td>\n",
              "      <td>3.000000</td>\n",
              "      <td>15.000000</td>\n",
              "      <td>3.000000</td>\n",
              "      <td>15.000000</td>\n",
              "      <td>3.000000</td>\n",
              "      <td>15.000000</td>\n",
              "      <td>3.000000</td>\n",
              "      <td>15.000000</td>\n",
              "      <td>3.000000</td>\n",
              "      <td>8.000000</td>\n",
              "      <td>23.500000</td>\n",
              "      <td>-1.279395</td>\n",
              "      <td>36.807040</td>\n",
              "      <td>-1.284382</td>\n",
              "      <td>36.808002</td>\n",
              "      <td>1369.000000</td>\n",
              "    </tr>\n",
              "    <tr>\n",
              "      <th>75%</th>\n",
              "      <td>3.000000</td>\n",
              "      <td>23.000000</td>\n",
              "      <td>5.000000</td>\n",
              "      <td>23.000000</td>\n",
              "      <td>5.000000</td>\n",
              "      <td>23.000000</td>\n",
              "      <td>5.000000</td>\n",
              "      <td>23.000000</td>\n",
              "      <td>5.000000</td>\n",
              "      <td>23.000000</td>\n",
              "      <td>5.000000</td>\n",
              "      <td>13.000000</td>\n",
              "      <td>26.000000</td>\n",
              "      <td>-1.257147</td>\n",
              "      <td>36.829741</td>\n",
              "      <td>-1.261177</td>\n",
              "      <td>36.829477</td>\n",
              "      <td>2040.000000</td>\n",
              "    </tr>\n",
              "    <tr>\n",
              "      <th>max</th>\n",
              "      <td>4.000000</td>\n",
              "      <td>31.000000</td>\n",
              "      <td>7.000000</td>\n",
              "      <td>31.000000</td>\n",
              "      <td>7.000000</td>\n",
              "      <td>31.000000</td>\n",
              "      <td>7.000000</td>\n",
              "      <td>31.000000</td>\n",
              "      <td>7.000000</td>\n",
              "      <td>31.000000</td>\n",
              "      <td>7.000000</td>\n",
              "      <td>49.000000</td>\n",
              "      <td>32.100000</td>\n",
              "      <td>-1.147170</td>\n",
              "      <td>36.991046</td>\n",
              "      <td>-1.030225</td>\n",
              "      <td>37.016779</td>\n",
              "      <td>7883.000000</td>\n",
              "    </tr>\n",
              "  </tbody>\n",
              "</table>\n",
              "</div>\n",
              "      <button class=\"colab-df-convert\" onclick=\"convertToInteractive('df-9fd07071-79ac-455d-b38c-796c33bf07ef')\"\n",
              "              title=\"Convert this dataframe to an interactive table.\"\n",
              "              style=\"display:none;\">\n",
              "        \n",
              "  <svg xmlns=\"http://www.w3.org/2000/svg\" height=\"24px\"viewBox=\"0 0 24 24\"\n",
              "       width=\"24px\">\n",
              "    <path d=\"M0 0h24v24H0V0z\" fill=\"none\"/>\n",
              "    <path d=\"M18.56 5.44l.94 2.06.94-2.06 2.06-.94-2.06-.94-.94-2.06-.94 2.06-2.06.94zm-11 1L8.5 8.5l.94-2.06 2.06-.94-2.06-.94L8.5 2.5l-.94 2.06-2.06.94zm10 10l.94 2.06.94-2.06 2.06-.94-2.06-.94-.94-2.06-.94 2.06-2.06.94z\"/><path d=\"M17.41 7.96l-1.37-1.37c-.4-.4-.92-.59-1.43-.59-.52 0-1.04.2-1.43.59L10.3 9.45l-7.72 7.72c-.78.78-.78 2.05 0 2.83L4 21.41c.39.39.9.59 1.41.59.51 0 1.02-.2 1.41-.59l7.78-7.78 2.81-2.81c.8-.78.8-2.07 0-2.86zM5.41 20L4 18.59l7.72-7.72 1.47 1.35L5.41 20z\"/>\n",
              "  </svg>\n",
              "      </button>\n",
              "      \n",
              "  <style>\n",
              "    .colab-df-container {\n",
              "      display:flex;\n",
              "      flex-wrap:wrap;\n",
              "      gap: 12px;\n",
              "    }\n",
              "\n",
              "    .colab-df-convert {\n",
              "      background-color: #E8F0FE;\n",
              "      border: none;\n",
              "      border-radius: 50%;\n",
              "      cursor: pointer;\n",
              "      display: none;\n",
              "      fill: #1967D2;\n",
              "      height: 32px;\n",
              "      padding: 0 0 0 0;\n",
              "      width: 32px;\n",
              "    }\n",
              "\n",
              "    .colab-df-convert:hover {\n",
              "      background-color: #E2EBFA;\n",
              "      box-shadow: 0px 1px 2px rgba(60, 64, 67, 0.3), 0px 1px 3px 1px rgba(60, 64, 67, 0.15);\n",
              "      fill: #174EA6;\n",
              "    }\n",
              "\n",
              "    [theme=dark] .colab-df-convert {\n",
              "      background-color: #3B4455;\n",
              "      fill: #D2E3FC;\n",
              "    }\n",
              "\n",
              "    [theme=dark] .colab-df-convert:hover {\n",
              "      background-color: #434B5C;\n",
              "      box-shadow: 0px 1px 3px 1px rgba(0, 0, 0, 0.15);\n",
              "      filter: drop-shadow(0px 1px 2px rgba(0, 0, 0, 0.3));\n",
              "      fill: #FFFFFF;\n",
              "    }\n",
              "  </style>\n",
              "\n",
              "      <script>\n",
              "        const buttonEl =\n",
              "          document.querySelector('#df-9fd07071-79ac-455d-b38c-796c33bf07ef button.colab-df-convert');\n",
              "        buttonEl.style.display =\n",
              "          google.colab.kernel.accessAllowed ? 'block' : 'none';\n",
              "\n",
              "        async function convertToInteractive(key) {\n",
              "          const element = document.querySelector('#df-9fd07071-79ac-455d-b38c-796c33bf07ef');\n",
              "          const dataTable =\n",
              "            await google.colab.kernel.invokeFunction('convertToInteractive',\n",
              "                                                     [key], {});\n",
              "          if (!dataTable) return;\n",
              "\n",
              "          const docLinkHtml = 'Like what you see? Visit the ' +\n",
              "            '<a target=\"_blank\" href=https://colab.research.google.com/notebooks/data_table.ipynb>data table notebook</a>'\n",
              "            + ' to learn more about interactive tables.';\n",
              "          element.innerHTML = '';\n",
              "          dataTable['output_type'] = 'display_data';\n",
              "          await google.colab.output.renderOutput(dataTable, element);\n",
              "          const docLink = document.createElement('div');\n",
              "          docLink.innerHTML = docLinkHtml;\n",
              "          element.appendChild(docLink);\n",
              "        }\n",
              "      </script>\n",
              "    </div>\n",
              "  </div>\n",
              "  "
            ]
          },
          "metadata": {},
          "execution_count": 8
        }
      ]
    },
    {
      "cell_type": "code",
      "source": [
        "print(df['Platform Type'].value_counts())\n",
        "\n",
        "plt.figure(figsize = (6, 6))\n",
        "df['Platform Type'].value_counts().plot(kind = 'pie', autopct = '%1.1f%%')\n",
        "plt.title('Pie Chart of Area Code')\n",
        "plt.show()"
      ],
      "metadata": {
        "id": "ECDUefDLNh4K",
        "colab": {
          "base_uri": "https://localhost:8080/",
          "height": 463
        },
        "outputId": "cc237c4c-1483-4831-87f4-ea3b92b38f82"
      },
      "execution_count": null,
      "outputs": [
        {
          "output_type": "stream",
          "name": "stdout",
          "text": [
            "3    18054\n",
            "1     2147\n",
            "2      980\n",
            "4       20\n",
            "Name: Platform Type, dtype: int64\n"
          ]
        },
        {
          "output_type": "display_data",
          "data": {
            "text/plain": [
              "<Figure size 432x432 with 1 Axes>"
            ],
            "image/png": "[encoded data removed]"
          },
          "metadata": {}
        }
      ]
    },
    {
      "cell_type": "markdown",
      "source": [
        "Majority of the orders are generated from platform type 3, followed by platform type 1, 2, 4."
      ],
      "metadata": {
        "id": "1CoTJ3wAS15S"
      }
    },
    {
      "cell_type": "code",
      "source": [
        "print(df['Personal or Business'].value_counts())\n",
        "\n",
        "plt.figure(figsize = (6, 6))\n",
        "df['Personal or Business'].value_counts().plot(kind = 'bar', rot = 0, color = ['red', 'blue'])\n",
        "plt.title('Nature of the Ride Order')\n",
        "plt.xlabel('Personal or Business')\n",
        "plt.show()"
      ],
      "metadata": {
        "colab": {
          "base_uri": "https://localhost:8080/",
          "height": 458
        },
        "id": "dDavDUegTIR1",
        "outputId": "02c4de15-4d60-487b-e7d5-2c18cdf35233"
      },
      "execution_count": null,
      "outputs": [
        {
          "output_type": "stream",
          "name": "stdout",
          "text": [
            "Business    17384\n",
            "Personal     3817\n",
            "Name: Personal or Business, dtype: int64\n"
          ]
        },
        {
          "output_type": "display_data",
          "data": {
            "text/plain": [
              "<Figure size 432x432 with 1 Axes>"
            ],
            "image/png": "[encoded data removed]"
          },
          "metadata": {
            "needs_background": "light"
          }
        }
      ]
    },
    {
      "cell_type": "markdown",
      "source": [
        "Most of the orders are business orders."
      ],
      "metadata": {
        "id": "ZJb9LcyoTzQn"
      }
    },
    {
      "cell_type": "code",
      "source": [
        "print(df['Placement - Weekday (Mo = 1)'].value_counts())\n",
        "\n",
        "plt.figure(figsize = (8, 8))\n",
        "df['Placement - Weekday (Mo = 1)'].value_counts().plot(kind = 'bar', rot = 0)\n",
        "plt.xlabel(\"Order Placement Day\")\n",
        "plt.show()"
      ],
      "metadata": {
        "colab": {
          "base_uri": "https://localhost:8080/",
          "height": 642
        },
        "id": "K6IEANJjS1ef",
        "outputId": "f99b507c-7dd6-4389-e2da-556b19f44e60"
      },
      "execution_count": null,
      "outputs": [
        {
          "output_type": "stream",
          "name": "stdout",
          "text": [
            "4    4228\n",
            "5    3993\n",
            "2    3959\n",
            "3    3823\n",
            "1    3789\n",
            "6    1223\n",
            "7     186\n",
            "Name: Placement - Weekday (Mo = 1), dtype: int64\n"
          ]
        },
        {
          "output_type": "display_data",
          "data": {
            "text/plain": [
              "<Figure size 576x576 with 1 Axes>"
            ],
            "image/png": "[encoded data removed]"
          },
          "metadata": {
            "needs_background": "light"
          }
        }
      ]
    },
    {
      "cell_type": "markdown",
      "source": [
        "The most orders are placed on Thursday(4) while the least are placed on Sunday(7).\n"
      ],
      "metadata": {
        "id": "6Fnj2JLhZtZ-"
      }
    },
    {
      "cell_type": "markdown",
      "source": [
        "# **Data Modelling**"
      ],
      "metadata": {
        "id": "pp_8dN5ZVToQ"
      }
    },
    {
      "cell_type": "code",
      "source": [
        "#split data into features and target\n",
        "X = df.drop(['Time from Pickup to Arrival'], axis=1)\n",
        "y = df['Time from Pickup to Arrival']"
      ],
      "metadata": {
        "id": "eLUvLTg37n0k"
      },
      "execution_count": 10,
      "outputs": []
    },
    {
      "cell_type": "code",
      "source": [
        "#split into training and test sets\n",
        "from sklearn.model_selection import train_test_split\n",
        "X_train, X_test, y_train, y_test = train_test_split(X, y, test_size = 0.25, random_state = 0)"
      ],
      "metadata": {
        "id": "EEd2nRWL9bv2"
      },
      "execution_count": 11,
      "outputs": []
    },
    {
      "cell_type": "code",
      "source": [
        "from sklearn.svm import SVR \n",
        "from sklearn.neighbors import KNeighborsRegressor\n",
        "from sklearn.tree import DecisionTreeRegressor  \n",
        "\n",
        "\n",
        "svm_regressor = SVR(kernel='rbf', C=10)\n",
        "knn_regressor = KNeighborsRegressor()\n",
        "dec_regressor = DecisionTreeRegressor(random_state=27)\n",
        "\n",
        "svm_regressor.fit(X_train, y_train)\n",
        "knn_regressor.fit(X_train, y_train)\n",
        "dec_regressor.fit(X_train, y_train)\n",
        "\n",
        "# Making Predictions  \n",
        "svm_y_pred = svm_regressor.predict(X_test)\n",
        "knn_y_pred = knn_regressor.predict(X_test)\n",
        "dec_y_pred = dec_regressor.predict(X_test)\n",
        "\n",
        "# Finally, evaluate our model \n",
        "from sklearn import metrics \n",
        "print('SVM RMSE:', np.sqrt(metrics.mean_squared_error(y_test, svm_y_pred)))\n",
        "print('KNN RMSE:', np.sqrt(metrics.mean_squared_error(y_test, knn_y_pred)))\n",
        "print('Decision Tree RMSE:', np.sqrt(metrics.mean_squared_error(y_test, dec_y_pred)))"
      ],
      "metadata": {
        "colab": {
          "base_uri": "https://localhost:8080/"
        },
        "id": "qydxzwqeC_O7",
        "outputId": "a045c60f-3558-4c0a-a5af-55bda414fab1"
      },
      "execution_count": 12,
      "outputs": [
        {
          "output_type": "stream",
          "name": "stdout",
          "text": [
            "SVM RMSE: 829.3352280241309\n",
            "KNN RMSE: 864.159980419419\n",
            "Decision Tree RMSE: 1126.2947715711698\n"
          ]
        }
      ]
    },
    {
      "cell_type": "markdown",
      "source": [
        "# **Feature Improvement**"
      ],
      "metadata": {
        "id": "JD1U6BCnq2bG"
      }
    },
    {
      "cell_type": "code",
      "source": [
        "# Performing normalisation \n",
        "from sklearn.preprocessing import MinMaxScaler\n",
        "norm = MinMaxScaler().fit(X_train) \n",
        "X_train = norm.transform(X_train) \n",
        "X_test = norm.transform(X_test)\n",
        "\n",
        "# Fitting in our models  \n",
        "svm_regressor = SVR(kernel='rbf', C=10)\n",
        "knn_regressor = KNeighborsRegressor()\n",
        "dec_regressor = DecisionTreeRegressor(random_state=27)\n",
        "\n",
        "svm_regressor.fit(X_train, y_train)\n",
        "knn_regressor.fit(X_train, y_train)\n",
        "dec_regressor.fit(X_train, y_train)\n",
        "\n",
        "# Making Predictions  \n",
        "svm_y_pred = svm_regressor.predict(X_test)\n",
        "knn_y_pred = knn_regressor.predict(X_test)\n",
        "dec_y_pred = dec_regressor.predict(X_test)\n",
        "\n",
        "# Finally, evaluating our models \n",
        "print('SVM RMSE:', np.sqrt(metrics.mean_squared_error(y_test, svm_y_pred)))\n",
        "print('KNN RMSE:', np.sqrt(metrics.mean_squared_error(y_test, knn_y_pred)))\n",
        "print('Decision Tree RMSE:', np.sqrt(metrics.mean_squared_error(y_test, dec_y_pred)))"
      ],
      "metadata": {
        "colab": {
          "base_uri": "https://localhost:8080/"
        },
        "id": "OWOolZnK4LEL",
        "outputId": "b58730d0-8d07-424f-f34a-94f77b615c25"
      },
      "execution_count": null,
      "outputs": [
        {
          "output_type": "stream",
          "name": "stdout",
          "text": [
            "SVM RMSE: 860.8931648080629\n",
            "KNN RMSE: 880.6893632852469\n",
            "Decision Tree RMSE: 1124.4177483559301\n"
          ]
        }
      ]
    },
    {
      "cell_type": "markdown",
      "source": [
        "The normalization only improved the Decision tree RMSE."
      ],
      "metadata": {
        "id": "QrseT2-n4bAa"
      }
    },
    {
      "cell_type": "code",
      "source": [
        "X = df.drop(['Time from Pickup to Arrival'], axis=1)\n",
        "y = df['Time from Pickup to Arrival']\n",
        "\n",
        "X_train, X_test, y_train, y_test = train_test_split(X, y, test_size = 0.25, random_state = 0)\n",
        "\n",
        "# Performing standardization \n",
        "from sklearn.preprocessing import StandardScaler\n",
        "sc = StandardScaler() \n",
        "X_train = sc.fit_transform(X_train)\n",
        "X_test = sc.fit_transform(X_test)\n",
        "\n",
        "# Fitting in our models  \n",
        "svm_regressor = SVR(kernel='rbf', C=10)\n",
        "knn_regressor = KNeighborsRegressor()\n",
        "dec_regressor = DecisionTreeRegressor(random_state=27)\n",
        "\n",
        "svm_regressor.fit(X_train, y_train)\n",
        "knn_regressor.fit(X_train, y_train)\n",
        "dec_regressor.fit(X_train, y_train)\n",
        "\n",
        "# Making Predictions  \n",
        "svm_y_pred = svm_regressor.predict(X_test)\n",
        "knn_y_pred = knn_regressor.predict(X_test)\n",
        "dec_y_pred = dec_regressor.predict(X_test)\n",
        "\n",
        "# Finally, evaluating our models \n",
        "print('SVM RMSE:', np.sqrt(metrics.mean_squared_error(y_test, svm_y_pred)))\n",
        "print('KNN RMSE:', np.sqrt(metrics.mean_squared_error(y_test, knn_y_pred)))\n",
        "print('Decision Tree RMSE:', np.sqrt(metrics.mean_squared_error(y_test, dec_y_pred)))"
      ],
      "metadata": {
        "colab": {
          "base_uri": "https://localhost:8080/"
        },
        "id": "MyZing3aqiR9",
        "outputId": "c4cca8cb-90f6-49e0-a8fe-2a2ad3e0853b"
      },
      "execution_count": null,
      "outputs": [
        {
          "output_type": "stream",
          "name": "stdout",
          "text": [
            "SVM RMSE: 837.3413906238648\n",
            "KNN RMSE: 855.2542610263766\n",
            "Decision Tree RMSE: 1141.9432859278438\n"
          ]
        }
      ]
    },
    {
      "cell_type": "markdown",
      "source": [
        "Normalization and standardization did not improve our models."
      ],
      "metadata": {
        "id": "GkbnNxW7rLxG"
      }
    },
    {
      "cell_type": "markdown",
      "source": [
        "# Feature Selection- Pearson's Correlation"
      ],
      "metadata": {
        "id": "LzUW4mRcr34C"
      }
    },
    {
      "cell_type": "code",
      "source": [
        "df_corr = df.corr()\n",
        "plt.figure(figsize=(15,12))\n",
        "\n",
        "# We then plot our heatmap visualistion\n",
        "# \n",
        "import seaborn as sns\n",
        "sns.heatmap(df_corr, annot=True, linewidth=0.5, cmap='coolwarm');"
      ],
      "metadata": {
        "colab": {
          "base_uri": "https://localhost:8080/",
          "height": 903
        },
        "id": "mg30xHGq4_da",
        "outputId": "af117982-a771-42be-da17-afae24c7a2e2"
      },
      "execution_count": null,
      "outputs": [
        {
          "output_type": "display_data",
          "data": {
            "text/plain": [
              "<Figure size 1080x864 with 2 Axes>"
            ],
            "image/png": "[encoded data removed]"
          },
          "metadata": {
            "needs_background": "light"
          }
        }
      ]
    },
    {
      "cell_type": "code",
      "source": [
        "#Removing the values with least correlation to the target variable-Time from Pickup to Arrival.\n",
        "#In this case, I'll remove the variables with negative correlation to the target.\n",
        "\n",
        "df2 = df.drop([\"Placement - Day of Month\", \"Confirmation - Day of Month\", \"Arrival at Pickup - Day of Month\", \"Pickup - Day of Month\", \"Arrival at Destination - Day of Month\", \"Pickup Lat\", \"Destination Lat\"], axis=1)"
      ],
      "metadata": {
        "id": "OHS9OdPDsfw-"
      },
      "execution_count": 13,
      "outputs": []
    },
    {
      "cell_type": "code",
      "source": [
        "X = df2.drop(['Time from Pickup to Arrival'], axis=1)\n",
        "y = df2['Time from Pickup to Arrival']\n",
        "\n",
        "#splitting the dataset\n",
        "X_train, X_test, y_train, y_test = train_test_split(X, y, test_size = 0.25, random_state = 0)\n",
        "\n",
        "#creating instance of our models\n",
        "svm_regressor = SVR(kernel='rbf', C=10)\n",
        "knn_regressor = KNeighborsRegressor()\n",
        "dec_regressor = DecisionTreeRegressor(random_state=27)\n",
        "\n",
        "#train the models\n",
        "svm_regressor.fit(X_train, y_train)\n",
        "knn_regressor.fit(X_train, y_train)\n",
        "dec_regressor.fit(X_train, y_train)\n",
        "\n",
        "# Making Predictions  \n",
        "svm_y_pred = svm_regressor.predict(X_test)\n",
        "knn_y_pred = knn_regressor.predict(X_test)\n",
        "dec_y_pred = dec_regressor.predict(X_test)\n",
        "\n",
        "# Finally, evaluate our model \n",
        "from sklearn import metrics \n",
        "print('SVM RMSE:', np.sqrt(metrics.mean_squared_error(y_test, svm_y_pred)))\n",
        "print('KNN RMSE:', np.sqrt(metrics.mean_squared_error(y_test, knn_y_pred)))\n",
        "print('Decision Tree RMSE:', np.sqrt(metrics.mean_squared_error(y_test, dec_y_pred)))"
      ],
      "metadata": {
        "colab": {
          "base_uri": "https://localhost:8080/"
        },
        "id": "hwhPBDS13eKq",
        "outputId": "d1eb1b6e-c386-4eb2-9fc0-a2e3857b7319"
      },
      "execution_count": 16,
      "outputs": [
        {
          "output_type": "stream",
          "name": "stdout",
          "text": [
            "SVM RMSE: 823.5480211679591\n",
            "KNN RMSE: 863.7151430839064\n",
            "Decision Tree RMSE: 1118.8913713051318\n"
          ]
        }
      ]
    },
    {
      "cell_type": "markdown",
      "source": [
        "Pearson correlation coefficient improved the model's performance."
      ],
      "metadata": {
        "id": "dq1-77hc5AYm"
      }
    },
    {
      "cell_type": "markdown",
      "source": [
        "# **Wrapper Method- Recursive Feature Elimination**"
      ],
      "metadata": {
        "id": "ljOvultK67nF"
      }
    },
    {
      "cell_type": "code",
      "source": [
        "# Splitting our dataset  \n",
        "X_train, X_test, y_train, y_test = train_test_split(X, y, test_size=.3, random_state = 42)\n",
        " \n",
        "# Fitting in our models   \n",
        "\n",
        "svm_regressor = SVR(kernel=\"linear\")  \n",
        "#svm_regressor = SVR(kernel='rbf', C=10) \n",
        "dec_regressor = DecisionTreeRegressor(random_state=27)\n",
        "\n",
        "# We want to select the best 2 features for our model. \n",
        "# NB: n_features_to_select will include the response variable\n",
        "# ---\n",
        "#  \n",
        "from sklearn.feature_selection import RFE\n",
        "svm_regressor = RFE(svm_regressor, n_features_to_select = 3, step=1)\n",
        "dec_regressor = RFE(dec_regressor, n_features_to_select = 3, step=1)\n",
        "\n",
        "svm_regressor.fit(X_train, y_train) \n",
        "dec_regressor.fit(X_train, y_train)\n",
        "\n",
        "# Making Predictions  \n",
        "svm_y_pred = svm_regressor.predict(X_test) \n",
        "dec_y_pred = dec_regressor.predict(X_test)\n",
        "\n",
        "# Finally, evaluate our model  \n",
        "print('SVM RMSE:', np.sqrt(metrics.mean_squared_error(y_test, svm_y_pred))) \n",
        "print('Decision Tree RMSE:', np.sqrt(metrics.mean_squared_error(y_test, dec_y_pred)))\n",
        " \n",
        "# Displaying our best features\n",
        "print('SVM Selected features: %s' % list(X.columns[svm_regressor.support_]))\n",
        "print('Decision Tree Selected features: %s' % list(X.columns[dec_regressor.support_]))"
      ],
      "metadata": {
        "colab": {
          "base_uri": "https://localhost:8080/"
        },
        "id": "HYir6NXoAVv0",
        "outputId": "ebd214a5-963d-423f-c805-3a86a0837099"
      },
      "execution_count": 20,
      "outputs": [
        {
          "output_type": "stream",
          "name": "stdout",
          "text": [
            "SVM RMSE: 812.4495731472573\n",
            "Decision Tree RMSE: 1107.9319484067819\n",
            "SVM Selected features: ['Personal or Business', 'Distance (KM)', 'Pickup Long']\n",
            "Decision Tree Selected features: ['Distance (KM)', 'Temperature', 'Destination Long']\n"
          ]
        }
      ]
    },
    {
      "cell_type": "markdown",
      "source": [
        "# Feature Transformation: Principal Component Analysis"
      ],
      "metadata": {
        "id": "cj5b-W14_SNr"
      }
    },
    {
      "cell_type": "code",
      "source": [
        "# Splitting our dataset  \n",
        "X_train, X_test, y_train, y_test = train_test_split(X, y, test_size=.25, random_state = 0)\n",
        "\n",
        "from sklearn.decomposition import PCA\n",
        "pca = PCA()\n",
        "X_train = pca.fit_transform(X_train)\n",
        "X_test = pca.transform(X_test)\n",
        "\n",
        "# Fitting in our models   \n",
        "svm_regressor = SVR(kernel='rbf', C=10)\n",
        "knn_regressor = KNeighborsRegressor()\n",
        "dec_regressor = DecisionTreeRegressor(random_state=27)\n",
        "\n",
        "svm_regressor.fit(X_train, y_train)\n",
        "knn_regressor.fit(X_train, y_train)\n",
        "dec_regressor.fit(X_train, y_train)\n",
        "\n",
        "# Making Predictions  \n",
        "svm_y_pred = svm_regressor.predict(X_test)\n",
        "knn_y_pred = knn_regressor.predict(X_test)\n",
        "dec_y_pred = dec_regressor.predict(X_test)\n",
        "\n",
        "# Finally, evaluating our models  \n",
        "print('SVM RMSE:', np.sqrt(metrics.mean_squared_error(y_test, svm_y_pred)))\n",
        "print('KNN RMSE:', np.sqrt(metrics.mean_squared_error(y_test, knn_y_pred)))\n",
        "print('Decision Tree RMSE:', np.sqrt(metrics.mean_squared_error(y_test, dec_y_pred)))"
      ],
      "metadata": {
        "colab": {
          "base_uri": "https://localhost:8080/"
        },
        "id": "hARqV1l1EKLA",
        "outputId": "daec98fd-c635-4bf5-f840-c29da6add757"
      },
      "execution_count": 19,
      "outputs": [
        {
          "output_type": "stream",
          "name": "stdout",
          "text": [
            "SVM RMSE: 825.6431116205372\n",
            "KNN RMSE: 864.5864076899799\n",
            "Decision Tree RMSE: 1119.5637223783979\n"
          ]
        }
      ]
    },
    {
      "cell_type": "markdown",
      "source": [
        "# **Summary of Findings**\n",
        "\n",
        "- The Recursive function elimination method led to the best improvement in the RMSE of the models.\n",
        "- Normalization and standardization did not improve the models performance."
      ],
      "metadata": {
        "id": "YHZmMvQGCNVw"
      }
    },
    {
      "cell_type": "markdown",
      "source": [
        "# **Next Steps**\n",
        "- Other measures such as hyperparameter tuning could possibly assist improve model performance.\n"
      ],
      "metadata": {
        "id": "3rZuaerBC-L7"
      }
    }
  ]
}